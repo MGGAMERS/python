{
 "cells": [
  {
   "cell_type": "code",
   "execution_count": 30,
   "id": "c8803591",
   "metadata": {},
   "outputs": [
    {
     "name": "stdout",
     "output_type": "stream",
     "text": [
      "Hello World\n"
     ]
    }
   ],
   "source": [
    "#1 Hello world\n",
    "print(\"Hello World\")"
   ]
  },
  {
   "cell_type": "code",
   "execution_count": 3,
   "id": "e1b73d0f",
   "metadata": {},
   "outputs": [
    {
     "name": "stdout",
     "output_type": "stream",
     "text": [
      "Enter the first num:4\n",
      "Enter the second num:3\n",
      "7\n"
     ]
    }
   ],
   "source": [
    "#2 Addition\n",
    "a=int(input(\"Enter the first num:\"))\n",
    "b=int(input(\"Enter the second num:\"))\n",
    "\n",
    "print(a+b)"
   ]
  },
  {
   "cell_type": "code",
   "execution_count": 4,
   "id": "080c1b49",
   "metadata": {},
   "outputs": [
    {
     "name": "stdout",
     "output_type": "stream",
     "text": [
      "enter the value of a:4\n",
      "enter the value of b:3\n",
      "Value of a is 3\n",
      "Value of b is 4\n"
     ]
    }
   ],
   "source": [
    "#3 swap without tmp\n",
    "\n",
    "a = int(input(\"enter the value of a:\"))\n",
    "b = int(input(\"enter the value of b:\"))\n",
    "a=a+b\n",
    "b=a-b\n",
    "a=a-b\n",
    "\n",
    "print(\"Value of a is\",a)\n",
    "print(\"Value of b is\",b)"
   ]
  },
  {
   "cell_type": "code",
   "execution_count": 7,
   "id": "f2268e50",
   "metadata": {},
   "outputs": [
    {
     "name": "stdout",
     "output_type": "stream",
     "text": [
      "Enter the kilometer: 1\n",
      "Value in Miles is 0.621371\n"
     ]
    }
   ],
   "source": [
    "#4 kilometers\n",
    "a= int(input(\"Enter the kilometer: \"))\n",
    "\n",
    "\n",
    "b=a*0.621371\n",
    "\n",
    "print(\"Value in Miles is\",b)"
   ]
  },
  {
   "cell_type": "code",
   "execution_count": 8,
   "id": "4c9ce14c",
   "metadata": {},
   "outputs": [
    {
     "name": "stdout",
     "output_type": "stream",
     "text": [
      "Enter a number:3\n",
      "Positive\n"
     ]
    }
   ],
   "source": [
    "#5 num is pos or neg\n",
    "\n",
    "#positive \n",
    "a=int(input(\"Enter a number:\"))\n",
    "if a>0:\n",
    "    print(\"Positive\")\n",
    "elif a<0:\n",
    "    print(\"Negative\")\n",
    "else:\n",
    "    print(\"Zero\")"
   ]
  },
  {
   "cell_type": "code",
   "execution_count": 10,
   "id": "de8fd084",
   "metadata": {},
   "outputs": [
    {
     "name": "stdout",
     "output_type": "stream",
     "text": [
      "Enter a year:2000\n",
      "Leap Year\n"
     ]
    }
   ],
   "source": [
    "#6 leap\n",
    "a=int(input(\"Enter a year:\"))\n",
    "if((a%4==0) and (a%100==0)) or (a%400):\n",
    "    print(\"Leap Year\")\n",
    "else: \n",
    "    print(\"Not a leap year\")"
   ]
  },
  {
   "cell_type": "code",
   "execution_count": 47,
   "id": "4dc91bd3",
   "metadata": {},
   "outputs": [
    {
     "name": "stdout",
     "output_type": "stream",
     "text": [
      "Enter the start:3\n",
      "Enter the end:9\n",
      "3\n",
      "5\n",
      "7\n"
     ]
    }
   ],
   "source": [
    "#7 prime\n",
    "m=int(input(\"Enter the start:\"))\n",
    "n=int(input(\"Enter the end:\"))\n",
    "\n",
    "for i in range(m,n):\n",
    "    c=0\n",
    "    for j in range(1,i):\n",
    "        if i%j==0:\n",
    "            c=c+1\n",
    "    if(c==1):\n",
    "        print(i)"
   ]
  },
  {
   "cell_type": "code",
   "execution_count": 42,
   "id": "db35ad0f",
   "metadata": {},
   "outputs": [
    {
     "name": "stdout",
     "output_type": "stream",
     "text": [
      "Enter the n:8\n",
      "0\n",
      "1\n",
      "1\n",
      "2\n",
      "3\n",
      "5\n",
      "8\n",
      "13\n"
     ]
    }
   ],
   "source": [
    "#8 Fibonacci\n",
    "n=int(input(\"Enter the n:\"))\n",
    "a=0\n",
    "b=1\n",
    "print(a)\n",
    "print(b)\n",
    "for i in range(1,n-1):\n",
    "    c=a+b\n",
    "    print(c)\n",
    "    a=b\n",
    "    b=c"
   ]
  },
  {
   "cell_type": "code",
   "execution_count": 19,
   "id": "6184e7fe",
   "metadata": {},
   "outputs": [
    {
     "name": "stdout",
     "output_type": "stream",
     "text": [
      "enter the number153\n",
      "armstrong\n"
     ]
    }
   ],
   "source": [
    "#9 Armstrong\n",
    "y=int(input(\"enter the number\"))\n",
    "sum=0\n",
    "temp=y\n",
    "d=temp%10\n",
    "e=(temp//10)%10\n",
    "f=int(temp/100)\n",
    "sum=(d**3)+(e**3)+(f**3)\n",
    "if sum==y:\n",
    "    print(\"armstrong\")\n",
    "else:\n",
    "    print(\"not armstrong\")"
   ]
  },
  {
   "cell_type": "code",
   "execution_count": 22,
   "id": "228ac030",
   "metadata": {},
   "outputs": [
    {
     "name": "stdout",
     "output_type": "stream",
     "text": [
      "enter the sum for n th term3\n",
      "sum of n is 6\n"
     ]
    }
   ],
   "source": [
    "#10 sum of n\n",
    "a=int(input(\"enter the sum for n th term\"))\n",
    "sum=0\n",
    "for b in range(1,a+1,1):\n",
    "    sum+=b\n",
    "print(\"sum of n is\",sum)"
   ]
  },
  {
   "cell_type": "code",
   "execution_count": 26,
   "id": "4f0ecf94",
   "metadata": {},
   "outputs": [
    {
     "name": "stdout",
     "output_type": "stream",
     "text": [
      "Enter how many rows:5\n",
      "*\n",
      "**\n",
      "***\n",
      "****\n",
      "*****\n"
     ]
    }
   ],
   "source": [
    "#11 star pattern fn.\n",
    "\n",
    "def show_stars(n):\n",
    "    for i in range(1, n + 1):\n",
    "        print('*' * i)\n",
    "n=int(input(\"Enter how many rows:\"))\n",
    "\n",
    "show_stars(n)\n",
    "    \n"
   ]
  },
  {
   "cell_type": "code",
   "execution_count": 2,
   "id": "8a123423",
   "metadata": {},
   "outputs": [
    {
     "name": "stdout",
     "output_type": "stream",
     "text": [
      "Enter the string: Gokulavasan\n",
      "Enter how much to remove:6\n",
      "vasan\n"
     ]
    }
   ],
   "source": [
    "#12 Remove charc from string\n",
    "s=input(\"Enter the string: \")\n",
    "n=int(input(\"Enter how much to remove:\"))\n",
    "print(s[n:])"
   ]
  },
  {
   "cell_type": "code",
   "execution_count": 50,
   "id": "68cb4b97",
   "metadata": {},
   "outputs": [
    {
     "name": "stdout",
     "output_type": "stream",
     "text": [
      "Enter the size of list:6\n",
      "Enter the values:\n",
      "Enter an element: 1\n",
      "Enter an element: 5\n",
      "Enter an element: 95\n",
      "Enter an element: 45\n",
      "Enter an element: 5\n",
      "Enter an element: 5\n",
      "The entered list is:\n",
      "[1, 5, 95, 45, 5, 5]\n",
      "5\n",
      "95\n",
      "45\n",
      "5\n",
      "5\n"
     ]
    }
   ],
   "source": [
    "#13 list-print div by 5\n",
    "n=int(input(\"Enter the size of list:\"))\n",
    "print(\"Enter the values:\") \n",
    "list = []\n",
    "\n",
    "for i in range(0,n):\n",
    "    element = int(input(\"Enter an element: \"))\n",
    "    list.append(element)\n",
    "    \n",
    "print(\"The entered list is:\")\n",
    "print(list)\n",
    "for i in list:\n",
    "    if i%5==0:\n",
    "        print(i)\n",
    "        "
   ]
  },
  {
   "cell_type": "code",
   "execution_count": 54,
   "id": "8cc2a23e",
   "metadata": {},
   "outputs": [
    {
     "name": "stdout",
     "output_type": "stream",
     "text": [
      "Enter a string:\n",
      "The number of times hi is 0\n"
     ]
    }
   ],
   "source": [
    "#14 count of hi in string\n",
    "s=input(\"Enter a string:\")\n",
    "\n",
    "print(\"The number of times hi is\",s.count(\"hi\"))"
   ]
  },
  {
   "cell_type": "code",
   "execution_count": 5,
   "id": "c7ffa564",
   "metadata": {},
   "outputs": [
    {
     "name": "stdout",
     "output_type": "stream",
     "text": [
      "1 \n",
      "2 2 \n",
      "3 3 3 \n",
      "4 4 4 4 \n",
      "5 5 5 5 5 \n"
     ]
    }
   ],
   "source": [
    "#15  number pattern\n",
    "for i in range(1, 6):\n",
    "    for j in range(i):\n",
    "        print(i, end=' ')\n",
    "    print()\n"
   ]
  },
  {
   "cell_type": "code",
   "execution_count": 14,
   "id": "59fd44a9",
   "metadata": {},
   "outputs": [
    {
     "name": "stdout",
     "output_type": "stream",
     "text": [
      "Enter a number:232\n",
      "Palindrome\n"
     ]
    }
   ],
   "source": [
    "#16 palindrome num or not\n",
    "num=input(\"Enter a number:\")\n",
    "\n",
    "rev = num[::-1]\n",
    "\n",
    "if num == rev:\n",
    "    print(\"Palindrome\")\n",
    "else:\n",
    "    print(\"Not a palindrome\")\n",
    "\n",
    "\n"
   ]
  },
  {
   "cell_type": "code",
   "execution_count": 19,
   "id": "e069d256",
   "metadata": {},
   "outputs": [
    {
     "name": "stdout",
     "output_type": "stream",
     "text": [
      "Enter the size of list:3\n",
      "Enter the values:\n",
      "Enter an element: 1\n",
      "Enter an element: 2\n",
      "Enter an element: 3\n",
      "The entered list is:\n",
      "[1, 2, 3]\n",
      "List after swapping last and first:\n",
      "[3, 2, 1]\n"
     ]
    }
   ],
   "source": [
    "# 17 swap first and last in list \n",
    "n=int(input(\"Enter the size of list:\"))\n",
    "print(\"Enter the values:\") \n",
    "list = []\n",
    "\n",
    "for i in range(0,n):\n",
    "    element = int(input(\"Enter an element: \"))\n",
    "    list.append(element)\n",
    "    \n",
    "print(\"The entered list is:\")    \n",
    "print(list)\n",
    "\n",
    "list[0], list[-1] = list[-1], list[0]\n",
    "print(\"List after swapping last and first:\")\n",
    "print(list)\n",
    "\n",
    "    "
   ]
  },
  {
   "cell_type": "markdown",
   "id": "388e1407",
   "metadata": {},
   "source": [
    "\n"
   ]
  },
  {
   "cell_type": "code",
   "execution_count": 20,
   "id": "9c9596fd",
   "metadata": {},
   "outputs": [
    {
     "name": "stdout",
     "output_type": "stream",
     "text": [
      "Enter the size of list:4\n",
      "Enter the values:\n",
      "Enter an element: 1\n",
      "Enter an element: 2\n",
      "Enter an element: 3\n",
      "Enter an element: 4\n",
      "The entered list is:\n",
      "[1, 2, 3, 4]\n",
      "Enter the first index to swap:1\n",
      "Enter the secnod index to swap:2\n",
      "List after swapping last and first:\n",
      "[1, 3, 2, 4]\n"
     ]
    }
   ],
   "source": [
    "#18swap two in list \n",
    "n=int(input(\"Enter the size of list:\"))\n",
    "print(\"Enter the values:\") \n",
    "list = []\n",
    "\n",
    "for i in range(0,n):\n",
    "    element = int(input(\"Enter an element: \"))\n",
    "    list.append(element)\n",
    "    \n",
    "print(\"The entered list is:\")    \n",
    "print(list)\n",
    "\n",
    "a = int(input(\"Enter the first index to swap:\"))\n",
    "b = int(input(\"Enter the secnod index to swap:\"))\n",
    "\n",
    "list[a], list[b] = list[b], list[a]\n",
    "print(\"List after swapping last and first:\")\n",
    "print(list)"
   ]
  },
  {
   "cell_type": "code",
   "execution_count": 14,
   "id": "48791c1b",
   "metadata": {},
   "outputs": [
    {
     "name": "stdout",
     "output_type": "stream",
     "text": [
      "Enter the size of list:4\n",
      "Enter the values:\n",
      "Enter an element: 1\n",
      "Enter an element: 2\n",
      "Enter an element: 3\n",
      "Enter an element: 4\n",
      "Length of list:  4\n",
      "Length of list:  4\n"
     ]
    }
   ],
   "source": [
    "#19  ways-find len of list\n",
    "n=int(input(\"Enter the size of list:\"))\n",
    "print(\"Enter the values:\") \n",
    "list = []\n",
    "\n",
    "for i in range(0,n):\n",
    "    element = int(input(\"Enter an element: \"))\n",
    "    list.append(element)\n",
    "    \n",
    "#using built-in function\n",
    "print(\"Length of list: \",len(list))\n",
    "\n",
    "#using for loop\n",
    "c=0\n",
    "for i in list:\n",
    "    c+=1\n",
    "print(\"Length of list: \",c)"
   ]
  },
  {
   "cell_type": "code",
   "execution_count": 5,
   "id": "57225151",
   "metadata": {},
   "outputs": [
    {
     "name": "stdout",
     "output_type": "stream",
     "text": [
      "enter value 1: 4\n",
      "enter value 2: 3\n",
      "Maximum value: 4\n"
     ]
    }
   ],
   "source": [
    "#20 Max of 2 num\n",
    "a=int(input(\"enter value 1: \"))\n",
    "b=int(input(\"enter value 2: \"))\n",
    "if a>b:\n",
    "    print(\"Maximum value:\",a)\n",
    "else:\n",
    "    print(\"Maximum value:\",b)"
   ]
  },
  {
   "cell_type": "code",
   "execution_count": 7,
   "id": "3941b174",
   "metadata": {},
   "outputs": [
    {
     "name": "stdout",
     "output_type": "stream",
     "text": [
      "enter value 1: 4\n",
      "enter value 2: 2\n",
      "Minimum value: 2\n"
     ]
    }
   ],
   "source": [
    "#21 Min of 2 num\n",
    "a=int(input(\"enter value 1: \"))\n",
    "b=int(input(\"enter value 2: \"))\n",
    "if a<b:\n",
    "    print(\"Minimum value:\",a)\n",
    "else:\n",
    "    print(\"Minimum value:\",b)"
   ]
  },
  {
   "cell_type": "code",
   "execution_count": 11,
   "id": "9dd7fdeb",
   "metadata": {},
   "outputs": [
    {
     "name": "stdout",
     "output_type": "stream",
     "text": [
      "Enter sting value: mom\n",
      "\n",
      "pallindrome checking:\n",
      "It is a pallindrome\n",
      "\n",
      "symmentrical checking:\n",
      "It is not symmentrical\n"
     ]
    }
   ],
   "source": [
    "#22 string is pal. or not\n",
    "s=input(\"Enter sting value: \")\n",
    "print(\"\\npallindrome checking:\")\n",
    "if s==s[::-1]:\n",
    "    print(\"It is a pallindrome\")\n",
    "else:\n",
    "    print(\"It is not a pallindrome\")\n",
    "print(\"\\nsymmentrical checking:\")\n",
    "half=len(s)//2\n",
    "if s[half:]==s[:half]:\n",
    "    print(\"It is symmentrical\")\n",
    "else:\n",
    "    print(\"It is not symmentrical\")"
   ]
  },
  {
   "cell_type": "code",
   "execution_count": 12,
   "id": "630789a7",
   "metadata": {},
   "outputs": [
    {
     "name": "stdout",
     "output_type": "stream",
     "text": [
      "Enter sting value: Gokul\n",
      "lukoG\n"
     ]
    }
   ],
   "source": [
    "#23 rev words in string\n",
    "s=input(\"Enter sting value: \")\n",
    "print(s[::-1])"
   ]
  },
  {
   "cell_type": "code",
   "execution_count": 13,
   "id": "9b2fc5bb",
   "metadata": {},
   "outputs": [
    {
     "name": "stdout",
     "output_type": "stream",
     "text": [
      "Enter the string :Gokul\n",
      "Enter index  value: 4\n",
      "Goku\n"
     ]
    }
   ],
   "source": [
    "#24 ways-remove i char in stirng\n",
    "\n",
    "s=input(\"Enter the string :\")\n",
    "i=int(input(\"Enter index to remove:\"))\n",
    "r=s[:i]+s[i+1:]\n",
    "print(r)"
   ]
  },
  {
   "cell_type": "code",
   "execution_count": 15,
   "id": "ecb74e6a",
   "metadata": {},
   "outputs": [
    {
     "name": "stdout",
     "output_type": "stream",
     "text": [
      "Enter the string :Gokul\n",
      "Length of string:  5\n",
      "Length of string:  5\n"
     ]
    }
   ],
   "source": [
    "#25 len of string\n",
    "\n",
    "s=input(\"Enter the string :\")\n",
    "\n",
    "#using built-in function\n",
    "print(\"Length of string: \",len(s))\n",
    "\n",
    "#using for loop\n",
    "c=0\n",
    "for i in s:\n",
    "    c+=1\n",
    "print(\"Length of string: \",c)"
   ]
  },
  {
   "cell_type": "code",
   "execution_count": 16,
   "id": "ef85c585",
   "metadata": {},
   "outputs": [
    {
     "name": "stdout",
     "output_type": "stream",
     "text": [
      "Enter the string :go to hell bro \n",
      "go\n",
      "to\n",
      "hell\n",
      "\n"
     ]
    }
   ],
   "source": [
    "#26 print even len words in string\n",
    "\n",
    "s=input(\"Enter the string :\")\n",
    "r=s.split(\" \")\n",
    "for i in r:\n",
    "    if len(i)%2==0:\n",
    "        print(i)"
   ]
  },
  {
   "cell_type": "code",
   "execution_count": 17,
   "id": "ae1b6c23",
   "metadata": {},
   "outputs": [
    {
     "name": "stdout",
     "output_type": "stream",
     "text": [
      "5\n"
     ]
    }
   ],
   "source": [
    "#27 size of tuple\n",
    "\n",
    "tuple=(1,2,3,4,5)\n",
    "\n",
    "print(len(tuple))"
   ]
  },
  {
   "cell_type": "code",
   "execution_count": 18,
   "id": "a27e446d",
   "metadata": {},
   "outputs": [
    {
     "name": "stdout",
     "output_type": "stream",
     "text": [
      "Maximum value=  5\n",
      "Minimum value=  1\n"
     ]
    }
   ],
   "source": [
    "#28 max and min in tuple\n",
    "\n",
    "t=(1,2,3,4,5)\n",
    "print(\"Maximum value= \",max(t))\n",
    "print(\"Minimum value= \",min(t))"
   ]
  },
  {
   "cell_type": "code",
   "execution_count": 29,
   "id": "41ce1ff5",
   "metadata": {},
   "outputs": [
    {
     "name": "stdout",
     "output_type": "stream",
     "text": [
      "Sum of elements in the tuple: 15\n"
     ]
    }
   ],
   "source": [
    "#29 sum in tuple\n",
    "\n",
    "t=(1,2,3,4,5)\n",
    "print(\"Sum of elements in the tuple:\",sum(t))"
   ]
  },
  {
   "cell_type": "code",
   "execution_count": 19,
   "id": "992c7661",
   "metadata": {},
   "outputs": [
    {
     "name": "stdout",
     "output_type": "stream",
     "text": [
      "Row sum: 6\n",
      "Row sum: 15\n",
      "Row sum: 24\n"
     ]
    }
   ],
   "source": [
    "#30 row add. in tuple matrix\n",
    "\n",
    "tup_mat = ((1, 2, 3), (4, 5, 6), (7, 8, 9))\n",
    "for row in tup_mat:\n",
    "    s=sum(row)\n",
    "    print(\"Row sum:\",s)"
   ]
  },
  {
   "cell_type": "code",
   "execution_count": 28,
   "id": "fa7f8443",
   "metadata": {},
   "outputs": [
    {
     "name": "stdout",
     "output_type": "stream",
     "text": [
      "Enter the size of list:4\n",
      "Enter the values:\n",
      "Enter an element: 1\n",
      "Enter an element: 2\n",
      "Enter an element: 3\n",
      "Enter an element: 4\n",
      "[(1, 1), (2, 8), (3, 27), (4, 64)]\n"
     ]
    }
   ],
   "source": [
    "#31 list of tuple \n",
    "\n",
    "nt=int(input(\"Enter the size of list:\"))\n",
    "print(\"Enter the values:\") \n",
    "list = []\n",
    "\n",
    "for i in range(0,n):\n",
    "    num = int(input(\"Enter an element: \"))\n",
    "    list.append(num)\n",
    "\n",
    "list_tup=[(x,x**3) for x in list]  #list comprehension is used \n",
    "    \n",
    "print(list_tup)"
   ]
  }
 ],
 "metadata": {
  "kernelspec": {
   "display_name": "Python 3 (ipykernel)",
   "language": "python",
   "name": "python3"
  },
  "language_info": {
   "codemirror_mode": {
    "name": "ipython",
    "version": 3
   },
   "file_extension": ".py",
   "mimetype": "text/x-python",
   "name": "python",
   "nbconvert_exporter": "python",
   "pygments_lexer": "ipython3",
   "version": "3.10.9"
  }
 },
 "nbformat": 4,
 "nbformat_minor": 5
}
